{
 "cells": [
  {
   "attachments": {},
   "cell_type": "markdown",
   "metadata": {},
   "source": [
    "# Problem set 5: Writing your own algorithms"
   ]
  },
  {
   "attachments": {},
   "cell_type": "markdown",
   "metadata": {},
   "source": [
    "This problem set has no tasks, but only problems of increasing complexity. See how far you can get :)"
   ]
  },
  {
   "cell_type": "code",
   "execution_count": 1,
   "metadata": {},
   "outputs": [],
   "source": [
    "import math"
   ]
  },
  {
   "attachments": {},
   "cell_type": "markdown",
   "metadata": {},
   "source": [
    "# Factorial"
   ]
  },
  {
   "attachments": {},
   "cell_type": "markdown",
   "metadata": {},
   "source": [
    "Remember that the factorial of $n$ is\n",
    "\n",
    "$$\n",
    "n\\cdot(n-1)\\cdot(n-2)\\cdot...\\cdot 1\n",
    "$$\n",
    "\n",
    "**Problem:** Correct the following function so that it returns the factorial of n using *functional recursion*."
   ]
  },
  {
   "cell_type": "code",
   "execution_count": null,
   "metadata": {},
   "outputs": [],
   "source": [
    "def factorial(n):\n",
    "    if n == 1:\n",
    "        return 1\n",
    "    else:\n",
    "        return n * factorial(n-1)\n",
    "    \n",
    "print(factorial(64))"
   ]
  },
  {
   "attachments": {},
   "cell_type": "markdown",
   "metadata": {},
   "source": [
    "**Answer:** see A1.py"
   ]
  },
  {
   "attachments": {},
   "cell_type": "markdown",
   "metadata": {},
   "source": [
    "# Descending bubble sort"
   ]
  },
  {
   "attachments": {},
   "cell_type": "markdown",
   "metadata": {},
   "source": [
    "**Problem:** Sort a list of numbers in-place descending (from high to low).\n",
    "\n",
    "**Inputs:** List of numbers.\n",
    "\n",
    "**Outputs:** None.\n",
    "\n",
    "**Algorithm:** "
   ]
  },
  {
   "cell_type": "code",
   "execution_count": null,
   "metadata": {},
   "outputs": [],
   "source": [
    "L = [54, 26, 93, 17, 77, 31, 44, 55, 20] # test list\n",
    "\n",
    "def swap(L,i,j):\n",
    "    temp = L[i] # save value in place holder variable\n",
    "    L[i] = L[j] # overwrite value at i with value at j\n",
    "    L[j] = temp # write original value at i to value at j\n",
    "\n",
    "# write your code here (hint: use the bubble_sort() algorithm from the lectures)\n",
    "def bubble_sort(L):\n",
    "    \"\"\" bubble sort\n",
    "    \n",
    "    Args:\n",
    "    \n",
    "        L (list): List of numbers\n",
    "        \n",
    "    \"\"\"\n",
    "    \n",
    "    # k starts being len(L)-1 and is decreased by 1 until hitting 0\n",
    "    for k in range(len(L)-1,0,-1):\n",
    "        for i in range(k):\n",
    "            if L[i] < L[i+1]:\n",
    "                swap(L,i,i+1)\n",
    "    \n",
    "\n",
    "bubble_sort(L)\n",
    "print('sorted',L)"
   ]
  },
  {
   "attachments": {},
   "cell_type": "markdown",
   "metadata": {},
   "source": [
    "**Answer:** see A2.py"
   ]
  },
  {
   "attachments": {},
   "cell_type": "markdown",
   "metadata": {},
   "source": [
    "# Linear search for index"
   ]
  },
  {
   "attachments": {},
   "cell_type": "markdown",
   "metadata": {},
   "source": [
    "**Problem:** Consider a number `x` and a sorted list of numbers `L`. Assume `L[0] <= x < L[-1]`. Find the index `i` such that `L[i] <= x < L[i+1]` using a linear search.\n",
    "\n",
    "**Inputs:** A sorted list of numbers `L` and a number `x`.\n",
    "    \n",
    "**Outputs:** Integer."
   ]
  },
  {
   "cell_type": "code",
   "execution_count": 4,
   "metadata": {},
   "outputs": [
    {
     "name": "stdout",
     "output_type": "stream",
     "text": [
      "3 gives the index 2\n",
      "7 gives the index 2\n",
      "13 gives the index 4\n",
      "18 gives the index 5\n",
      "32 gives the index 7\n"
     ]
    }
   ],
   "source": [
    "L = [0, 1, 2, 8, 13, 17, 19, 32, 42] # test list\n",
    "\n",
    "# write your code here (hint: use the linear_seach() algorithm from the lecture)\n",
    "def linear_search(L,x):\n",
    "    \"\"\" linear search\n",
    "    \n",
    "    Args:\n",
    "    \n",
    "        L (list): Ordered list to search in.\n",
    "        x (any): Element to search for.\n",
    "        \n",
    "    Returns:\n",
    "    \n",
    "        Interget (int): index of x in L.\n",
    "    \n",
    "    \"\"\"\n",
    "    \n",
    "\n",
    "    # a. prep\n",
    "    i = 0\n",
    "    N = len(L)\n",
    "    found = False\n",
    "\n",
    "    # b. main\n",
    "    while i < N and not found:\n",
    "        if x < L[i+1] and L[i] <=x : # comparison\n",
    "            found = True\n",
    "        else:\n",
    "            i += 1 # increment\n",
    "\n",
    "    # c. return\n",
    "    return i\n",
    "    \n",
    "\n",
    "# test your function\n",
    "for x in [3,7,13,18,32]:\n",
    "    i = linear_search(L,x)\n",
    "    print(f'{x} gives the index {i}')\n",
    "    assert(x >= L[i] and x < L[i+1]),(x,i,L[i])\n"
   ]
  },
  {
   "attachments": {},
   "cell_type": "markdown",
   "metadata": {},
   "source": [
    "**Answer:** see A3.py"
   ]
  },
  {
   "attachments": {},
   "cell_type": "markdown",
   "metadata": {},
   "source": [
    "# Bisection"
   ]
  },
  {
   "attachments": {},
   "cell_type": "markdown",
   "metadata": {},
   "source": [
    "**Problem:** Find an (apporximate) solution to $f(x) = 0$ in the interval $[a,b]$ where $f(a)f(b) < 0$ (i.e. one is positive and the other is negative). \n",
    "\n",
    "> If $f$ is a *continuous* function then the intermediate value theorem ensures that a solution exists.\n",
    "\n",
    "**Inputs:** Function $f$, float interval $[a,b]$, float tolerance $\\epsilon > 0$.\n",
    "\n",
    "**Outputs:** Float.\n",
    "\n",
    "**Algorithm:** `bisection()`\n",
    "\n",
    "1. Set $a_0 = a$ and $b_0 = b$.\n",
    "\n",
    "2. Compute $f(m_0)$ where $m_0 = (a_0 + b_0)/2$ is the midpoint\n",
    "\n",
    "3. Determine the next sub-interval $[a_1,b_1]$:\n",
    "\n",
    "  i. If $f(a_0)f(m_0) < 0$ then $a_1 = a_0$ and $b_1 = m_0$\n",
    "\n",
    "  ii. If $f(m_0)f(b_0) < 0$ then $a_1 = m_0$ and $b_1 = b_0$\n",
    "\n",
    "4. Repeat step 2 and step 3 until $|f(m_n)| < \\epsilon$"
   ]
  },
  {
   "cell_type": "code",
   "execution_count": null,
   "metadata": {},
   "outputs": [],
   "source": [
    "f = lambda x: (2.1*x-1.7)*(x-3.3) # test function\n",
    "def bisection(f,a,b,tau):\n",
    "    \"\"\" bisection method\n",
    "    \n",
    "    Args:\n",
    "    \n",
    "        f (function): Function to find root of.\n",
    "        a (float): Lower bound of interval.\n",
    "        b (float): Upper bound of interval.\n",
    "        tau (float): Tolerance.\n",
    "        \n",
    "    Returns:\n",
    "    \n",
    "        Float (float): Root of f.\n",
    "    \n",
    "    \"\"\"\n",
    "    # a. prep\n",
    "    a_n = a\n",
    "    b_n = b\n",
    "    m = (a+b)/2\n",
    "    fm = f(m)\n",
    "    found = False\n",
    "\n",
    "    # b. main\n",
    "    while not found:\n",
    "        m = (a_n+b_n)/2\n",
    "        fm = f(m)\n",
    "        if abs(fm) < tau:\n",
    "            found = True\n",
    "        elif f(a_n)*f(m) < 0:\n",
    "            a_n = a\n",
    "            b_n = m\n",
    "        elif f(b)*f(m) < 0:\n",
    "            a_n = m\n",
    "            b_n = b\n",
    "        \n",
    "    return m\n",
    "\n",
    "\n",
    "\n",
    "result = bisection(f,0,1,1e-8)\n",
    "print(result)\n"
   ]
  },
  {
   "cell_type": "code",
   "execution_count": 11,
   "metadata": {},
   "outputs": [
    {
     "name": "stdout",
     "output_type": "stream",
     "text": [
      "result is 0.810 with f(0.810) = -0.0000000204110434\n"
     ]
    }
   ],
   "source": [
    "f = lambda x: (2.1*x-1.7)*(x-3.3) # test function\n",
    "def bisection(f,a,b,tau):\n",
    "    \"\"\" bisection method\n",
    "    \n",
    "    Args:\n",
    "    \n",
    "        f (function): Function to find root of.\n",
    "        a (float): Lower bound of interval.\n",
    "        b (float): Upper bound of interval.\n",
    "        tau (float): Tolerance.\n",
    "        \n",
    "    Returns:\n",
    "    \n",
    "        Float (float): Root of f.\n",
    "    \n",
    "    \"\"\"\n",
    "    \n",
    "    # a. prep\n",
    "    fa = f(a)\n",
    "    fb = f(b)\n",
    "    c = (a+b)/2\n",
    "    fc = f(c)\n",
    "    found = False\n",
    "\n",
    "    # b. main\n",
    "    while not found:\n",
    "        if fc == 0 or (b-a)/2 < tau: # comparison\n",
    "            found = True\n",
    "        else:\n",
    "            if fa*fc < 0: # comparison\n",
    "                b = c\n",
    "                fb = fc\n",
    "            else:\n",
    "                a = c\n",
    "                fa = fc\n",
    "            c = (a+b)/2\n",
    "            fc = f(c)\n",
    "\n",
    "    # c. return\n",
    "    return c\n",
    "    \n",
    "result = bisection(f,0,1,1e-8)\n",
    "print(f'result is {result:.3f} with f({result:.3f}) = {f(result):.16f}')"
   ]
  },
  {
   "attachments": {},
   "cell_type": "markdown",
   "metadata": {},
   "source": [
    "**Answer:** see A4.py"
   ]
  },
  {
   "attachments": {},
   "cell_type": "markdown",
   "metadata": {},
   "source": [
    "# Find prime numbers (hard)"
   ]
  },
  {
   "attachments": {},
   "cell_type": "markdown",
   "metadata": {},
   "source": [
    "**Goal:** Implement a function in Python for the sieve of Eratosthenes.\n",
    "\n",
    "The **sieve of Eratosthenes** is a simple algorithm for finding all prime numbers up to a specified integer. It was created by the ancient Greek mathematician Eratosthenes. The algorithm to find all the prime numbers less than or equal to a given integer $n$.\n",
    "\n",
    "**Algorithm:** `sieve_()`\n",
    "\n",
    "1. Create a list of integers from $2$ to $n$: $2, 3, 4, ..., n$ (all potentially primes)\n",
    "\n",
    "    `primes = list(range(2,n+1))`\n",
    "\n",
    "2. Start with a counter $i$ set to $2$, i.e. the first prime number\n",
    "\n",
    "3. Starting from $i+i$, count up by $i$ and remove those numbers from the list, i.e. $2i$, $3i$, $4i$ etc.\n",
    "\n",
    "    `primes.remove(i)`\n",
    "    \n",
    "4. Find the first number of the list following $i$. This is the next prime number.\n",
    "\n",
    "5. Set $i$ to the number found in the previous step.\n",
    "\n",
    "6. Repeat steps 3-5 until $i$ is greater than $\\sqrt {n}$.\n",
    "7. All the numbers, which are still in the list, are prime numbers."
   ]
  },
  {
   "attachments": {},
   "cell_type": "markdown",
   "metadata": {},
   "source": [
    "**A more detailed explanation:** See this [video](https://www.youtube.com/watch?v=klcIklsWzrY&feature=youtu.be)"
   ]
  },
  {
   "cell_type": "code",
   "execution_count": null,
   "metadata": {},
   "outputs": [],
   "source": [
    "def sieve(n):\n",
    "    pass # write your code here\n",
    "\n",
    "print(sieve(100))"
   ]
  },
  {
   "attachments": {},
   "cell_type": "markdown",
   "metadata": {},
   "source": [
    "**Answer:** see A5.py"
   ]
  },
  {
   "attachments": {},
   "cell_type": "markdown",
   "metadata": {},
   "source": [
    "# More Problems"
   ]
  },
  {
   "attachments": {},
   "cell_type": "markdown",
   "metadata": {},
   "source": [
    "See [Project Euler](https://projecteuler.net/about)."
   ]
  }
 ],
 "metadata": {
  "kernelspec": {
   "display_name": "Python 3 (ipykernel)",
   "language": "python",
   "name": "python3"
  },
  "language_info": {
   "codemirror_mode": {
    "name": "ipython",
    "version": 3
   },
   "file_extension": ".py",
   "mimetype": "text/x-python",
   "name": "python",
   "nbconvert_exporter": "python",
   "pygments_lexer": "ipython3",
   "version": "3.9.16"
  },
  "toc-autonumbering": true
 },
 "nbformat": 4,
 "nbformat_minor": 4
}
